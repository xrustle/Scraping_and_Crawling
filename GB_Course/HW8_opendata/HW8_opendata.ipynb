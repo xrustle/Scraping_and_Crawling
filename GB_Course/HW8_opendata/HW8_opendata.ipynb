{
 "cells": [
  {
   "cell_type": "markdown",
   "metadata": {},
   "source": [
    "# Методы сбора и обработки данных из сети Интернет\n",
    "## Open data\n",
    "#### 1.\tСоздать приложение, которое будет из готового файла с данными «Сбербанка» (https://www.sberbank.com/ru/analytics/opendata) выводить результат по параметрам:\n",
    "* Тип данных\n",
    "* Интервал дат\n",
    "* Область\n",
    "\n",
    "#### 2.\tВизуализировать выводимые данные с помощью графика"
   ]
  },
  {
   "cell_type": "markdown",
   "metadata": {},
   "source": [
    "### Если вы запускаете этот файл в локальном Jupyter Notebook или JupyterLab\n",
    "\n",
    "Для интерактивного просмотра используется **IPywidgets**\n",
    "\n",
    "`pip install ipywidgets`\n",
    "\n",
    "Далее для активации IPywidgets в Jupyter Notebook выполняем:\n",
    "\n",
    "`jupyter nbextension enable --py widgetsnbextension`\n",
    "\n",
    "А для использования в JupyterLab:\n",
    "\n",
    "`jupyter labextension install @jupyter-widgets/jupyterlab-manager`\n",
    "\n",
    "Ниже пример для Jupyter Notebook"
   ]
  },
  {
   "cell_type": "code",
   "execution_count": 1,
   "metadata": {},
   "outputs": [
    {
     "name": "stderr",
     "output_type": "stream",
     "text": [
      "Enabling notebook extension jupyter-js-widgets/extension...\n",
      "      - Validating: ok\n"
     ]
    }
   ],
   "source": [
    "!pip install -U -q ipywidgets\n",
    "!jupyter nbextension enable --py widgetsnbextension"
   ]
  },
  {
   "cell_type": "code",
   "execution_count": 2,
   "metadata": {},
   "outputs": [],
   "source": [
    "!pip install -U -q pandas\n",
    "!pip install -U -q matplotlib"
   ]
  },
  {
   "cell_type": "markdown",
   "metadata": {},
   "source": [
    "### Практическая работа\n",
    "\n"
   ]
  },
  {
   "cell_type": "code",
   "execution_count": 3,
   "metadata": {},
   "outputs": [],
   "source": [
    "import pandas as pd\n",
    "\n",
    "import ipywidgets as widgets\n",
    "from ipywidgets import interact\n",
    "\n",
    "%matplotlib inline\n",
    "from matplotlib import pyplot as plt\n",
    "import matplotlib.dates as mdates\n",
    "from pandas.plotting import register_matplotlib_converters\n",
    "register_matplotlib_converters()"
   ]
  },
  {
   "cell_type": "markdown",
   "metadata": {},
   "source": [
    "Создаем DataFrame, конвертируем строку с датой в Datetime."
   ]
  },
  {
   "cell_type": "code",
   "execution_count": 4,
   "metadata": {},
   "outputs": [],
   "source": [
    "df = pd.read_csv('http://sbrfdata.ru/opendata.zip', encoding='windows-1251')\n",
    "df.date = pd.to_datetime(df.date, format=\"%Y-%m-%d\")"
   ]
  },
  {
   "cell_type": "markdown",
   "metadata": {},
   "source": [
    "Строим списки уникальных значений регионов и метрик."
   ]
  },
  {
   "cell_type": "code",
   "execution_count": 5,
   "metadata": {},
   "outputs": [],
   "source": [
    "metrics = df.name.unique()\n",
    "regions = df.region.unique()"
   ]
  },
  {
   "cell_type": "markdown",
   "metadata": {},
   "source": [
    "И сам динамический график"
   ]
  },
  {
   "cell_type": "code",
   "execution_count": 6,
   "metadata": {},
   "outputs": [
    {
     "data": {
      "application/vnd.jupyter.widget-view+json": {
       "model_id": "5473c766f7244a348961403bafe5ce4f",
       "version_major": 2,
       "version_minor": 0
      },
      "text/plain": [
       "interactive(children=(Dropdown(description='metrics', options=('Количество заявок на потребительские кредиты',…"
      ]
     },
     "metadata": {},
     "output_type": "display_data"
    }
   ],
   "source": [
    "def draw_plot(metrics, region, start_date, end_date):\n",
    "    start_date = pd.Timestamp(start_date)\n",
    "    end_date = pd.Timestamp(end_date)\n",
    "    df_plot = df[(df.name == metrics) & \n",
    "             (df.region == region) & \n",
    "             (df.date >= start_date) &\n",
    "             (df.date <= end_date)]\n",
    "    \n",
    "    x = list(df_plot.date)\n",
    "    y = list(df_plot.value)\n",
    "    \n",
    "    fig, ax = plt.subplots(figsize=(16, 9))\n",
    "    ax.set_title(f'{region} - {metrics}')\n",
    "    ax.plot_date(x, y, linestyle='-')\n",
    "    \n",
    "    for i in range(len(x)):\n",
    "        ax.annotate(y[i], (mdates.date2num(x[i]), y[i]), ha=\"right\", va=\"center\",\n",
    "                    xytext=(20, 15), textcoords='offset points', bbox=dict(boxstyle=\"round\", fc=\"w\", ec=\"k\"))\n",
    "    \n",
    "    plt.show()\n",
    "    \n",
    "_ = interact(draw_plot, \n",
    "             metrics=widgets.Dropdown(options=list(metrics)),\n",
    "             region=widgets.Dropdown(options=list(regions)), \n",
    "             start_date = widgets.DatePicker(value=pd.to_datetime('2018-01-01')), \n",
    "             end_date = widgets.DatePicker(value=pd.to_datetime('2019-01-01')))"
   ]
  },
  {
   "cell_type": "markdown",
   "metadata": {},
   "source": [
    "## На случай, если интерактивный режим не работает"
   ]
  },
  {
   "cell_type": "markdown",
   "metadata": {},
   "source": [
    "Можно запустить построение графика вручную в конце файла."
   ]
  },
  {
   "cell_type": "code",
   "execution_count": 8,
   "metadata": {},
   "outputs": [
    {
     "name": "stdout",
     "output_type": "stream",
     "text": [
      "0: Количество заявок на потребительские кредиты\n",
      "1: Средняя сумма заявки на потребительский кредит\n",
      "2: Количество заявок на ипотечные кредиты\n",
      "3: Средняя сумма заявки на ипотечный кредит\n",
      "4: Количество новых депозитов\n",
      "5: Средняя сумма нового депозита\n",
      "6: Средняя зарплата\n",
      "7: Средняя пенсия\n",
      "8: В среднем руб. на текущем счете на человека\n",
      "9: В среднем депозитов в руб. на человека\n",
      "10: Средние расходы по картам\n",
      "11: Средний чек в формате Фастфуд\n",
      "12: Средний чек в формате Ресторан\n",
      "13: Средние траты в ресторане фастфуд\n",
      "14: Средние траты в ресторане\n"
     ]
    }
   ],
   "source": [
    "print(*[f'{i}: {metric}' for i, metric in enumerate(metrics)], sep='\\n')"
   ]
  },
  {
   "cell_type": "code",
   "execution_count": 9,
   "metadata": {},
   "outputs": [
    {
     "name": "stdout",
     "output_type": "stream",
     "text": [
      "0: Россия\n",
      "1: Алтайский край\n",
      "2: Амурская область\n",
      "3: Архангельская область\n",
      "4: Астраханская область\n",
      "5: Белгородская область\n",
      "6: Брянская область\n",
      "7: Владимирская область\n",
      "8: Волгоградская область\n",
      "9: Вологодская область\n",
      "10: Воронежская область\n",
      "11: Еврейская автономная область\n",
      "12: Забайкальский край\n",
      "13: Ивановская область\n",
      "14: Иркутская область\n",
      "15: Кабардино-Балкарская Республика\n",
      "16: Калининградская область\n",
      "17: Калужская область\n",
      "18: Камчатский край\n",
      "19: Кемеровская область\n",
      "20: Кировская область\n",
      "21: Костромская область\n",
      "22: Краснодарский край\n",
      "23: Красноярский край\n",
      "24: Курганская область\n",
      "25: Курская область\n",
      "26: Ленинградская область\n",
      "27: Липецкая область\n",
      "28: Магаданская область\n",
      "29: Москва\n",
      "30: Московская область\n",
      "31: Мурманская область\n",
      "32: Ненецкий автономный округ\n",
      "33: Нижегородская область\n",
      "34: Новгородская область\n",
      "35: Новосибирская область\n",
      "36: Омская область\n",
      "37: Оренбургская область\n",
      "38: Орловская область\n",
      "39: Пензенская область\n",
      "40: Пермский край\n",
      "41: Приморский край\n",
      "42: Псковская область\n",
      "43: Республика Адыгея\n",
      "44: Республика Алтай (Горный Алтай)\n",
      "45: Республика Башкортостан\n",
      "46: Республика Бурятия\n",
      "47: Республика Дагестан\n",
      "48: Республика Ингушетия\n",
      "49: Республика Калмыкия\n",
      "50: Республика Карачаево-Черкессия\n",
      "51: Республика Карелия\n",
      "52: Республика Коми\n",
      "53: Республика Марий Эл\n",
      "54: Республика Мордовия\n",
      "55: Республика Саха (Якутия)\n",
      "56: Республика Северная Осетия-Алания\n",
      "57: Республика Татарстан\n",
      "58: Республика Тыва\n",
      "59: Республика Хакасия\n",
      "60: Ростовская область\n",
      "61: Рязанская область\n",
      "62: Самарская область\n",
      "63: Санкт-Петербург\n",
      "64: Саратовская область\n",
      "65: Сахалинская область\n",
      "66: Свердловская область\n",
      "67: Смоленская область\n",
      "68: Ставропольский край\n",
      "69: Тамбовская область\n",
      "70: Тверская область\n",
      "71: Томская область\n",
      "72: Тульская область\n",
      "73: Тюменская область\n",
      "74: Удмуртская Республика\n",
      "75: Ульяновская область\n",
      "76: Хабаровский край\n",
      "77: Ханты-Мансийский автономный округ — Югра\n",
      "78: Челябинская область\n",
      "79: Чеченская Республика\n",
      "80: Чувашская Республика\n",
      "81: Чукотский автономный округ\n",
      "82: Ямало-Ненецкий автономный округ\n",
      "83: Ярославская область\n"
     ]
    }
   ],
   "source": [
    "print(*[f'{i}: {region}' for i, region in enumerate(regions)], sep='\\n')"
   ]
  },
  {
   "cell_type": "markdown",
   "metadata": {},
   "source": [
    "#### Соответствие индексов и значений выше.\n",
    "Для примера используется\n",
    "* `metrics[6]` - Средняя зарплата\n",
    "* `regions[14]` - Иркутская область\n",
    "\n",
    "Даты можно задавать произвольно, но в верном формате `yyyy-mm-dd`"
   ]
  },
  {
   "cell_type": "code",
   "execution_count": 10,
   "metadata": {},
   "outputs": [
    {
     "data": {
      "image/png": "[encoded data removed]",
      "text/plain": [
       "<Figure size 1152x648 with 1 Axes>"
      ]
     },
     "metadata": {
      "needs_background": "light"
     },
     "output_type": "display_data"
    }
   ],
   "source": [
    "draw_plot(metrics[6], regions[14], pd.to_datetime('2018-01-01'), pd.to_datetime('2019-01-01'))"
   ]
  }
 ],
 "metadata": {
  "kernelspec": {
   "display_name": "Python 3",
   "language": "python",
   "name": "python3"
  },
  "language_info": {
   "codemirror_mode": {
    "name": "ipython",
    "version": 3
   },
   "file_extension": ".py",
   "mimetype": "text/x-python",
   "name": "python",
   "nbconvert_exporter": "python",
   "pygments_lexer": "ipython3",
   "version": "3.7.5"
  }
 },
 "nbformat": 4,
 "nbformat_minor": 2
}
