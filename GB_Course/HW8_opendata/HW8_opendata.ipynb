{
 "cells": [
  {
   "cell_type": "markdown",
   "metadata": {},
   "source": [
    "# Методы сбора и обработки данных из сети Интернет\n",
    "## Open data\n",
    "#### 1.\tСоздать приложение, которое будет из готового файла с данными «Сбербанка» (https://www.sberbank.com/ru/analytics/opendata) выводить результат по параметрам:\n",
    "* Тип данных\n",
    "* Интервал дат\n",
    "* Область\n",
    "\n",
    "#### 2.\tВизуализировать выводимые данные с помощью графика"
   ]
  },
  {
   "cell_type": "markdown",
   "metadata": {},
   "source": [
    "### Использование IPywidgets\n",
    "#### 1. Для локального просмотра:\n",
    "Для интерактивного просмотра используется **IPywidgets**: \n",
    "\n",
    "`pip install ipywidgets`\n",
    "\n",
    "Далее для активации IPywidgets в Jupyter Notebook выполняем:\n",
    "\n",
    "`jupyter nbextension enable --py widgetsnbextension`\n",
    "\n",
    "А для использования в JupyterLab:\n",
    "\n",
    "`jupyter labextension install @jupyter-widgets/jupyterlab-manager`"
   ]
  },
  {
   "cell_type": "markdown",
   "metadata": {},
   "source": [
    "### Практическая работа\n",
    "\n"
   ]
  },
  {
   "cell_type": "code",
   "execution_count": 1,
   "metadata": {},
   "outputs": [],
   "source": [
    "import pandas as pd\n",
    "\n",
    "import ipywidgets as widgets\n",
    "from ipywidgets import interact\n",
    "\n",
    "%matplotlib inline\n",
    "from matplotlib import pyplot as plt\n",
    "import matplotlib.dates as mdates\n",
    "from pandas.plotting import register_matplotlib_converters\n",
    "register_matplotlib_converters()"
   ]
  },
  {
   "cell_type": "markdown",
   "metadata": {},
   "source": [
    "Создаем DataFrame, конвертируем строку с датой в Datetime."
   ]
  },
  {
   "cell_type": "code",
   "execution_count": 2,
   "metadata": {},
   "outputs": [],
   "source": [
    "df = pd.read_csv('http://sbrfdata.ru/opendata.zip', engine='python')\n",
    "df.date = pd.to_datetime(df.date, format=\"%Y-%m-%d\")"
   ]
  },
  {
   "cell_type": "markdown",
   "metadata": {},
   "source": [
    "Строим списки уникальных значений регионов и метрик."
   ]
  },
  {
   "cell_type": "code",
   "execution_count": 3,
   "metadata": {},
   "outputs": [],
   "source": [
    "metrics = df.name.unique()\n",
    "regions = df.region.unique()"
   ]
  },
  {
   "cell_type": "markdown",
   "metadata": {},
   "source": [
    "И сам динамический график"
   ]
  },
  {
   "cell_type": "code",
   "execution_count": 4,
   "metadata": {},
   "outputs": [
    {
     "data": {
      "application/vnd.jupyter.widget-view+json": {
       "model_id": "d3ad4cec09a94f8c90f5278aa81c3427",
       "version_major": 2,
       "version_minor": 0
      },
      "text/plain": [
       "interactive(children=(Dropdown(description='metrics', options=('Количество заявок на потребительские кредиты',…"
      ]
     },
     "metadata": {},
     "output_type": "display_data"
    }
   ],
   "source": [
    "def draw_plot(metrics, region, start_date, end_date):\n",
    "    start_date = pd.Timestamp(start_date)\n",
    "    end_date = pd.Timestamp(end_date)\n",
    "    df_plot = df[(df.name == metrics) & \n",
    "             (df.region == region) & \n",
    "             (df.date >= start_date) &\n",
    "             (df.date <= end_date)]\n",
    "    \n",
    "    x = list(df_plot.date)\n",
    "    y = list(df_plot.value)\n",
    "    \n",
    "    fig, ax = plt.subplots(figsize=(16, 9))\n",
    "    ax.plot_date(x, y, linestyle='-')\n",
    "    \n",
    "    for i in range(len(x)):\n",
    "        ax.annotate(y[i], (mdates.date2num(x[i]), y[i]), ha=\"right\", va=\"center\",\n",
    "                    xytext=(20, 15), textcoords='offset points', bbox=dict(boxstyle=\"round\", fc=\"w\", ec=\"k\"))\n",
    "    \n",
    "    plt.show()\n",
    "    \n",
    "_ = interact(draw_plot, \n",
    "             metrics=widgets.Dropdown(options=list(metrics)),\n",
    "             region=widgets.Dropdown(options=list(regions)), \n",
    "             start_date = widgets.DatePicker(value=pd.to_datetime('2018-01-01')), \n",
    "             end_date = widgets.DatePicker(value=pd.to_datetime('2019-01-01')))"
   ]
  }
 ],
 "metadata": {
  "kernelspec": {
   "display_name": "Python 3",
   "language": "python",
   "name": "python3"
  },
  "language_info": {
   "codemirror_mode": {
    "name": "ipython",
    "version": 3
   },
   "file_extension": ".py",
   "mimetype": "text/x-python",
   "name": "python",
   "nbconvert_exporter": "python",
   "pygments_lexer": "ipython3",
   "version": "3.7.5"
  }
 },
 "nbformat": 4,
 "nbformat_minor": 2
}
