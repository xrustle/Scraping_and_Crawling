{
 "cells": [
  {
   "cell_type": "markdown",
   "metadata": {},
   "source": [
    "# Урок 1. Основы клиент-серверного взаимодействия. Парсинг API\n",
    "#### 1. Посмотреть документацию к API GitHub, разобраться как вывести список репозиториев для конкретного пользователя, сохранить JSON-вывод в файле *.json."
   ]
  },
  {
   "cell_type": "code",
   "execution_count": 1,
   "metadata": {},
   "outputs": [],
   "source": [
    "import requests\n",
    "import json"
   ]
  },
  {
   "cell_type": "code",
   "execution_count": 2,
   "metadata": {},
   "outputs": [],
   "source": [
    "USER = 'xrustle'\n",
    "GIT_API_URL = 'https://api.github.com'\n",
    "\n",
    "response = requests.get(GIT_API_URL + '/users/' + USER + '/repos')"
   ]
  },
  {
   "cell_type": "markdown",
   "metadata": {},
   "source": [
    "Сохраним JSON-вывод в файле *.json. Туда запишем всю информацию по репозиториям."
   ]
  },
  {
   "cell_type": "code",
   "execution_count": 3,
   "metadata": {},
   "outputs": [],
   "source": [
    "data = json.loads(response.text)\n",
    "with open('HW1_myrepos.json', 'w') as outfile:\n",
    "    json.dump(data, outfile)"
   ]
  },
  {
   "cell_type": "markdown",
   "metadata": {},
   "source": [
    "Выведем список видимых репозиториев конкретного пользователя. Только названия."
   ]
  },
  {
   "cell_type": "code",
   "execution_count": 4,
   "metadata": {},
   "outputs": [
    {
     "name": "stdout",
     "output_type": "stream",
     "text": [
      "GB_Algorithms\n",
      "GB_Math\n",
      "GB_Py4DS\n",
      "GB_Python_OOP\n",
      "Scraping_and_Crawling\n"
     ]
    }
   ],
   "source": [
    "print(*(repo['name'] for repo in data), sep='\\n')"
   ]
  },
  {
   "cell_type": "markdown",
   "metadata": {},
   "source": [
    "#### 2. Изучить список открытых API. Найти среди них любое, требующее авторизацию (любого типа). Выполнить запросы к нему, пройдя авторизацию. Ответ сервера записать в файл."
   ]
  },
  {
   "cell_type": "markdown",
   "metadata": {},
   "source": [
    "Используем API сервиса [Last.fm](https://www.last.fm/api/).\n",
    "\n",
    "Last.fm - это сайт, посвящённый музыке. С помощью плагинов к медиаплеерам собирает информацию о музыке, которую слушают пользователи.\n",
    "\n",
    "API использует авторизацию по сгенерированному ключу."
   ]
  },
  {
   "cell_type": "code",
   "execution_count": 5,
   "metadata": {},
   "outputs": [],
   "source": [
    "LASTFM_API_URL = 'http://ws.audioscrobbler.com/2.0/'\n",
    "API_KEY = '78abe4e68b10a888c35018bb9c207e34'"
   ]
  },
  {
   "cell_type": "markdown",
   "metadata": {},
   "source": [
    "Получим, например, список самых часто прослушиваемых песен группы Queen."
   ]
  },
  {
   "cell_type": "code",
   "execution_count": 6,
   "metadata": {},
   "outputs": [],
   "source": [
    "PARAMS = {'method': 'artist.gettoptracks',\n",
    "          'artist': 'queen', \n",
    "          'api_key': API_KEY, \n",
    "          'format': 'json'}\n",
    "\n",
    "response = requests.get(LASTFM_API_URL, params=PARAMS)"
   ]
  },
  {
   "cell_type": "markdown",
   "metadata": {},
   "source": [
    "Запишем в файл и выведем в виде строки пять лучших."
   ]
  },
  {
   "cell_type": "code",
   "execution_count": 7,
   "metadata": {},
   "outputs": [],
   "source": [
    "data = json.loads(response.text)\n",
    "with open('HW1_queen_top_tracks.json', 'w') as outfile:\n",
    "    json.dump(data, outfile)"
   ]
  },
  {
   "cell_type": "code",
   "execution_count": 8,
   "metadata": {},
   "outputs": [
    {
     "name": "stdout",
     "output_type": "stream",
     "text": [
      "Bohemian Rhapsody\n",
      "Another One Bites the Dust\n",
      "Don't Stop Me Now\n",
      "We Will Rock You\n",
      "Killer Queen\n"
     ]
    }
   ],
   "source": [
    "for i in range(5):\n",
    "    print(data['toptracks']['track'][i]['name'])"
   ]
  },
  {
   "cell_type": "markdown",
   "metadata": {},
   "source": [
    "А теперь посмотрю самые часто прослучиваемые треки мной. Самому интересно)"
   ]
  },
  {
   "cell_type": "code",
   "execution_count": 9,
   "metadata": {},
   "outputs": [
    {
     "name": "stdout",
     "output_type": "stream",
     "text": [
      "MGMT - Time to Pretend\n",
      "Ludovico Einaudi - Nuvole Bianche\n",
      "Absofacto - On a Ladder Leading Nowhere\n",
      "deadmau5 - Strobe\n",
      "Aphex Twin - Flim\n"
     ]
    }
   ],
   "source": [
    "PARAMS = {'method': 'user.gettoptracks',\n",
    "          'user': 'xrustle', \n",
    "          'api_key': API_KEY, \n",
    "          'format': 'json'}\n",
    "\n",
    "response = requests.get(LASTFM_API_URL, params=PARAMS)\n",
    "data = json.loads(response.text)\n",
    "for i in range(5):\n",
    "    print('{} - {}'.format(data['toptracks']['track'][i]['artist']['name'], \n",
    "                           data['toptracks']['track'][i]['name']))"
   ]
  }
 ],
 "metadata": {
  "kernelspec": {
   "display_name": "Python 3",
   "language": "python",
   "name": "python3"
  },
  "language_info": {
   "codemirror_mode": {
    "name": "ipython",
    "version": 3
   },
   "file_extension": ".py",
   "mimetype": "text/x-python",
   "name": "python",
   "nbconvert_exporter": "python",
   "pygments_lexer": "ipython3",
   "version": "3.7.5"
  }
 },
 "nbformat": 4,
 "nbformat_minor": 2
}
